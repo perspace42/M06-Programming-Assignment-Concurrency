{
 "cells": [
  {
   "cell_type": "code",
   "execution_count": 1,
   "metadata": {},
   "outputs": [
    {
     "data": {
      "text/plain": [
       "'\\nAuthor: Scott Field\\nVersion: 1.00\\nDate: 4/25/2023\\nProgram Name: Jupyter_Concurrency\\nProgram Purpose: \\n'"
      ]
     },
     "execution_count": 1,
     "metadata": {},
     "output_type": "execute_result"
    }
   ],
   "source": [
    "'''\n",
    "Author: Scott Field\n",
    "Version: 1.00\n",
    "Date: 4/25/2023\n",
    "Program Name: Jupyter_Concurrency\n",
    "Program Purpose: Demonstarte an understanding of python date time, and multithreading\n",
    "'''"
   ]
  },
  {
   "cell_type": "code",
   "execution_count": 59,
   "metadata": {},
   "outputs": [
    {
     "name": "stdout",
     "output_type": "stream",
     "text": [
      "04/25/2023\n"
     ]
    }
   ],
   "source": [
    "#13.1 Write the current date as a string to the text file today.txt.\n",
    "\n",
    "#import date\n",
    "from datetime import date\n",
    "\n",
    "#get current day formatted as month/day/year\n",
    "currentDate = date.today().strftime(\"%m/%d/%Y\")\n",
    "\n",
    "#verify date is correct\n",
    "print(currentDate)\n",
    "\n",
    "#create and open txt file\n",
    "file = open(\"today.txt\",\"w\")\n",
    "#write date to file\n",
    "file.write(currentDate)\n",
    "#close file\n",
    "file.close()\n",
    "\n",
    "\n",
    "\n",
    "\n",
    "\n"
   ]
  },
  {
   "cell_type": "code",
   "execution_count": 60,
   "metadata": {},
   "outputs": [
    {
     "name": "stdout",
     "output_type": "stream",
     "text": [
      "04/25/2023\n"
     ]
    }
   ],
   "source": [
    "#13.2 Read the text file today.txt into the string today_string.\n",
    "\n",
    "#open file\n",
    "fileRead = open('today.txt','r')\n",
    "#get file data\n",
    "today_string = fileRead.read()\n",
    "#close file\n",
    "fileRead.close()\n",
    "#verify string read data\n",
    "print(today_string)"
   ]
  },
  {
   "cell_type": "code",
   "execution_count": 68,
   "metadata": {},
   "outputs": [
    {
     "name": "stdout",
     "output_type": "stream",
     "text": [
      "2023-04-25 00:00:00\n"
     ]
    }
   ],
   "source": [
    "#13.3 Parse the date from today_string.\n",
    "from datetime import datetime\n",
    "#Convert string back into date\n",
    "theDate = datetime.strptime(today_string,\"%m/%d/%Y\")\n",
    "#verify date was read\n",
    "print(theDate)\n"
   ]
  },
  {
   "cell_type": "code",
   "execution_count": 101,
   "metadata": {},
   "outputs": [
    {
     "name": "stdout",
     "output_type": "stream",
     "text": [
      "The current time is:  2023-04-25 22:17:59.723179\n",
      "The current time is:  2023-04-25 22:18:00.724058\n",
      "The current time is:  2023-04-25 22:18:01.725082\n"
     ]
    }
   ],
   "source": [
    "#15.1 Use multiprocessing to create three separate processes. Make each one wait a random number of seconds between zero and one, print the current time, and then exit.\n",
    "import multiprocessing\n",
    "import time\n",
    "import datetime\n",
    "import random\n",
    "\n",
    "def theProcess():\n",
    "    #initialization\n",
    "    #current time\n",
    "    theTime = datetime.datetime.now()\n",
    "    #random number of seconds zero or one\n",
    "    seconds = random.randint(0,1)\n",
    "    #halt the program for zero or 1 second\n",
    "    time.sleep(seconds)\n",
    "    #print the current time\n",
    "    print(\"The current time is: \",theTime)\n",
    "\n",
    "#Processes Section\n",
    "\n",
    "#define processes\n",
    "process = multiprocessing.Process(target=theProcess())\n",
    "processSecond = multiprocessing.Process(target=theProcess())\n",
    "processThird = multiprocessing.Process(target=theProcess())\n",
    "\n",
    "#start process 1\n",
    "process.start()\n",
    "   \n",
    "#start process 2\n",
    "processSecond.start()\n",
    "    \n",
    "#start process 3\n",
    "processThird.start()\n",
    "    \n"
   ]
  }
 ],
 "metadata": {
  "kernelspec": {
   "display_name": "Python 3",
   "language": "python",
   "name": "python3"
  },
  "language_info": {
   "codemirror_mode": {
    "name": "ipython",
    "version": 3
   },
   "file_extension": ".py",
   "mimetype": "text/x-python",
   "name": "python",
   "nbconvert_exporter": "python",
   "pygments_lexer": "ipython3",
   "version": "3.11.2"
  },
  "orig_nbformat": 4
 },
 "nbformat": 4,
 "nbformat_minor": 2
}
